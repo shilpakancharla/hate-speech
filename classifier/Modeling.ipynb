{
 "cells": [
  {
   "cell_type": "markdown",
   "metadata": {},
   "source": [
    "There are three steps to creating the model.\n",
    "\n",
    "1. **Vectorization**: We use a **Term Frequency Inverse Document Frequency** (TF-IDF) vectorizer to accomplish this. This is a common algorithm used to transform text into a meaningful representation of numbers used to fit machine algorithm for prediction. The TF-IDF object is pickled so that it can be used in the analysis of newer tweets later on. The threshold of the maximum and minimum document frequency has been set at 90 and 20 percent, respectively. In addition to this, a simple bag-of-words count vectorization is also applied to the Naive Bayes model just to see if there is a signficant difference in performance with different vecotirzation technique across the same model. The deep learning model also requires different kinds of preprocessing and that will be applied right before the CNN modeling.\n",
    "\n",
    "2. **Train/Validation/Test Split**\n",
    "\n",
    "3. **Modeling**: Modeling is conducted by using **logistic regression**, **Naive Bayes**, **CNN**, and **decision trees**. Hyperparameter tuning with GridSearch CV is also applied to all models for some optimizations apart from CNN.\n",
    "\n",
    "Each model also has a ROC plot in order to assess performance."
   ]
  },
  {
   "cell_type": "code",
   "execution_count": 4,
   "metadata": {},
   "outputs": [],
   "source": [
    "import numpy as np\n",
    "import re\n",
    "import keras\n",
    "import pandas as pd\n",
    "import matplotlib.pyplot as plt\n",
    "import seaborn as sns\n",
    "import pickle\n",
    "\n",
    "# Test/train split\n",
    "from sklearn.model_selection import train_test_split \n",
    "\n",
    "# Models\n",
    "from sklearn.naive_bayes import GaussianNB\n",
    "from sklearn.tree import DecisionTreeClassifier\n",
    "from sklearn.ensemble import RandomForestClassifier\n",
    "from sklearn.linear_model import LogisticRegression\n",
    "from sklearn.naive_bayes import GaussianNB\n",
    "\n",
    "# Evaluation\n",
    "from sklearn.metrics import accuracy_score,roc_auc_score, f1_score, recall_score\n",
    "from sklearn.metrics import  roc_curve, confusion_matrix, precision_score\n",
    "\n",
    "from sklearn.feature_extraction.text import TfidfVectorizer\n",
    "from nltk.tokenize import TweetTokenizer\n",
    "\n",
    "# Convolutional neural network\n",
    "from keras.preprocessing.sequence import pad_sequences\n",
    "from keras.preprocessing.text import Tokenizer\n",
    "from keras import layers\n",
    "from keras.layers import Conv1D, Flatten, LSTM , GRU, GlobalMaxPooling1D\n",
    "from keras import optimizers\n",
    "from keras import models\n",
    "from keras import losses\n",
    "from keras import metrics\n",
    "from keras.models import Sequential\n",
    "from keras.layers import Dense\n",
    "from keras.layers.embeddings import Embedding\n",
    "\n",
    "from keras.preprocessing.text import Tokenizer\n",
    "from keras.preprocessing.sequence import pad_sequences\n",
    "\n",
    "from joblib import dump, load\n",
    "import warnings\n",
    "warnings.filterwarnings('ignore') \n",
    "%matplotlib inline\n",
    "\n",
    "# Import custom functions\n",
    "from explore import tokenize\n",
    "from explore import getTokenFreq\n",
    "from evaluation import calculatePerformance\n",
    "from evaluation import plotROCCurve\n",
    "from evaluation import maxSeqLength"
   ]
  },
  {
   "cell_type": "code",
   "execution_count": 5,
   "metadata": {},
   "outputs": [],
   "source": [
    "# Import dataset\n",
    "df = pd.read_csv('../data/processed/data_for_modeling.csv')"
   ]
  },
  {
   "cell_type": "markdown",
   "metadata": {},
   "source": [
    "# TF-IDF Vectorization\n",
    "\n",
    "The TF-IDF method takes into account the 'rarity' of words within the vocabular and not only the frequency of the occurence. The minimum and maximum frequency is 2 and 0.9. We are taking the n-grams up to 3."
   ]
  },
  {
   "cell_type": "code",
   "execution_count": 6,
   "metadata": {},
   "outputs": [],
   "source": [
    "# Instantiate the tf-idf object\n",
    "tfidfVectors = TfidfVectorizer(max_df=0.9, min_df=2, max_features=9000, stop_words='english', ngram_range=(1, 3))"
   ]
  },
  {
   "cell_type": "markdown",
   "metadata": {},
   "source": [
    "The matrix has not been transformed yet because we need this instantiated object to make predictions on unseen text further down the pipeline of the project. By pickling only the fit object we can iteratively transform each time new text on the base fit matrix. Unseen words will just be dropped whenever they are not in the original fit matrix defined."
   ]
  },
  {
   "cell_type": "code",
   "execution_count": 7,
   "metadata": {},
   "outputs": [],
   "source": [
    "tfidfOnlyFit = tfidfVectors.fit(df['tweet_no_stopwords_no_short'])"
   ]
  },
  {
   "cell_type": "code",
   "execution_count": 8,
   "metadata": {},
   "outputs": [],
   "source": [
    "# Pickling only the fit\n",
    "pickleFit = open('tfidfOnlyFit', 'wb')\n",
    "pickle.dump(tfidfOnlyFit, pickleFit)"
   ]
  },
  {
   "cell_type": "code",
   "execution_count": 9,
   "metadata": {},
   "outputs": [],
   "source": [
    "tfidf = tfidfVectors.fit_transform(df['tweet_no_stopwords_no_short'])"
   ]
  },
  {
   "cell_type": "code",
   "execution_count": 10,
   "metadata": {},
   "outputs": [],
   "source": [
    "dfVector = pd.DataFrame(tfidf.todense(), columns = tfidfVectors.get_feature_names())"
   ]
  },
  {
   "cell_type": "markdown",
   "metadata": {},
   "source": [
    "# Test/Validation/Test Split"
   ]
  },
  {
   "cell_type": "code",
   "execution_count": 11,
   "metadata": {},
   "outputs": [],
   "source": [
    "target = df['neg_label']"
   ]
  },
  {
   "cell_type": "code",
   "execution_count": 12,
   "metadata": {},
   "outputs": [],
   "source": [
    "x_train, x_test, y_train, y_test = train_test_split(dfVector, target, test_size = .2, random_state = 101)"
   ]
  },
  {
   "cell_type": "code",
   "execution_count": 13,
   "metadata": {},
   "outputs": [
    {
     "name": "stdout",
     "output_type": "stream",
     "text": [
      "Shape of training set:\t (33593, 9000)\n",
      "Shape of training target:\t (33593,)\n",
      "Shape of test set:\t (8399, 9000)\n",
      "Shape of test target:\t (8399,)\n"
     ]
    }
   ],
   "source": [
    "print('Shape of training set:\\t', x_train.shape)\n",
    "print('Shape of training target:\\t', y_train.shape)\n",
    "print('Shape of test set:\\t', x_test.shape)\n",
    "print('Shape of test target:\\t', y_test.shape)"
   ]
  },
  {
   "cell_type": "code",
   "execution_count": 14,
   "metadata": {},
   "outputs": [],
   "source": [
    "X_train, x_val, Y_train, y_val = train_test_split(x_train, y_train, test_size = .2, random_state = 101)"
   ]
  },
  {
   "cell_type": "code",
   "execution_count": 15,
   "metadata": {},
   "outputs": [
    {
     "name": "stdout",
     "output_type": "stream",
     "text": [
      "Shape of final training set:\t (26874, 9000)\n",
      "Shape of final training target:\t (26874,)\n",
      "Shape of validation set:\t (6719, 9000)\n",
      "Shape of validation target:\t (6719,)\n"
     ]
    }
   ],
   "source": [
    "print('Shape of final training set:\\t', X_train.shape)\n",
    "print('Shape of final training target:\\t', Y_train.shape)\n",
    "print('Shape of validation set:\\t', x_val.shape)\n",
    "print('Shape of validation target:\\t', y_val.shape)"
   ]
  },
  {
   "cell_type": "markdown",
   "metadata": {},
   "source": [
    "# Logistic Regression Baseline"
   ]
  },
  {
   "cell_type": "code",
   "execution_count": 16,
   "metadata": {},
   "outputs": [],
   "source": [
    "logmod = LogisticRegression(random_state = 1002)"
   ]
  },
  {
   "cell_type": "code",
   "execution_count": 17,
   "metadata": {},
   "outputs": [
    {
     "data": {
      "text/plain": [
       "LogisticRegression(random_state=1002)"
      ]
     },
     "execution_count": 17,
     "metadata": {},
     "output_type": "execute_result"
    }
   ],
   "source": [
    "logmod.fit(X_train, Y_train)"
   ]
  },
  {
   "cell_type": "code",
   "execution_count": 18,
   "metadata": {},
   "outputs": [],
   "source": [
    "Logistic_Regression_Training = calculatePerformance(logmod, X_train, Y_train, 'Logistic Regression Model')"
   ]
  },
  {
   "cell_type": "code",
   "execution_count": 19,
   "metadata": {},
   "outputs": [
    {
     "data": {
      "text/html": [
       "<div>\n",
       "<style scoped>\n",
       "    .dataframe tbody tr th:only-of-type {\n",
       "        vertical-align: middle;\n",
       "    }\n",
       "\n",
       "    .dataframe tbody tr th {\n",
       "        vertical-align: top;\n",
       "    }\n",
       "\n",
       "    .dataframe thead th {\n",
       "        text-align: right;\n",
       "    }\n",
       "</style>\n",
       "<table border=\"1\" class=\"dataframe\">\n",
       "  <thead>\n",
       "    <tr style=\"text-align: right;\">\n",
       "      <th></th>\n",
       "      <th>Model</th>\n",
       "      <th>F1</th>\n",
       "      <th>Accuracy</th>\n",
       "      <th>ROC_Score</th>\n",
       "      <th>Precision</th>\n",
       "    </tr>\n",
       "  </thead>\n",
       "  <tbody>\n",
       "    <tr>\n",
       "      <th>0</th>\n",
       "      <td>Logistic Regression Model</td>\n",
       "      <td>0.98307</td>\n",
       "      <td>0.983516</td>\n",
       "      <td>0.997736</td>\n",
       "      <td>0.992056</td>\n",
       "    </tr>\n",
       "  </tbody>\n",
       "</table>\n",
       "</div>"
      ],
      "text/plain": [
       "                       Model       F1  Accuracy  ROC_Score  Precision\n",
       "0  Logistic Regression Model  0.98307  0.983516   0.997736   0.992056"
      ]
     },
     "execution_count": 19,
     "metadata": {},
     "output_type": "execute_result"
    }
   ],
   "source": [
    "Logistic_Regression_Training"
   ]
  },
  {
   "cell_type": "code",
   "execution_count": 20,
   "metadata": {},
   "outputs": [],
   "source": [
    "Logistic_Regression_Validation = calculatePerformance(logmod, x_val, y_val, 'Logistic Regression Validation')"
   ]
  },
  {
   "cell_type": "code",
   "execution_count": 21,
   "metadata": {},
   "outputs": [
    {
     "data": {
      "text/html": [
       "<div>\n",
       "<style scoped>\n",
       "    .dataframe tbody tr th:only-of-type {\n",
       "        vertical-align: middle;\n",
       "    }\n",
       "\n",
       "    .dataframe tbody tr th {\n",
       "        vertical-align: top;\n",
       "    }\n",
       "\n",
       "    .dataframe thead th {\n",
       "        text-align: right;\n",
       "    }\n",
       "</style>\n",
       "<table border=\"1\" class=\"dataframe\">\n",
       "  <thead>\n",
       "    <tr style=\"text-align: right;\">\n",
       "      <th></th>\n",
       "      <th>Model</th>\n",
       "      <th>F1</th>\n",
       "      <th>Accuracy</th>\n",
       "      <th>ROC_Score</th>\n",
       "      <th>Precision</th>\n",
       "    </tr>\n",
       "  </thead>\n",
       "  <tbody>\n",
       "    <tr>\n",
       "      <th>0</th>\n",
       "      <td>Logistic Regression Validation</td>\n",
       "      <td>0.973551</td>\n",
       "      <td>0.974252</td>\n",
       "      <td>0.995978</td>\n",
       "      <td>0.986981</td>\n",
       "    </tr>\n",
       "  </tbody>\n",
       "</table>\n",
       "</div>"
      ],
      "text/plain": [
       "                            Model        F1  Accuracy  ROC_Score  Precision\n",
       "0  Logistic Regression Validation  0.973551  0.974252   0.995978   0.986981"
      ]
     },
     "execution_count": 21,
     "metadata": {},
     "output_type": "execute_result"
    }
   ],
   "source": [
    "Logistic_Regression_Validation"
   ]
  },
  {
   "cell_type": "code",
   "execution_count": 22,
   "metadata": {},
   "outputs": [
    {
     "ename": "AttributeError",
     "evalue": "'str' object has no attribute 'pop'",
     "output_type": "error",
     "traceback": [
      "\u001b[0;31m---------------------------------------------------------------------------\u001b[0m",
      "\u001b[0;31mAttributeError\u001b[0m                            Traceback (most recent call last)",
      "\u001b[0;32m<ipython-input-22-fd7c5a440033>\u001b[0m in \u001b[0;36m<module>\u001b[0;34m\u001b[0m\n\u001b[0;32m----> 1\u001b[0;31m \u001b[0mplotROCCurve\u001b[0m\u001b[0;34m(\u001b[0m\u001b[0mlogmod\u001b[0m\u001b[0;34m,\u001b[0m \u001b[0mX_train\u001b[0m\u001b[0;34m,\u001b[0m \u001b[0mx_val\u001b[0m\u001b[0;34m,\u001b[0m \u001b[0mY_train\u001b[0m\u001b[0;34m,\u001b[0m \u001b[0my_val\u001b[0m\u001b[0;34m,\u001b[0m \u001b[0;34m\"Logistic\"\u001b[0m\u001b[0;34m)\u001b[0m\u001b[0;34m\u001b[0m\u001b[0;34m\u001b[0m\u001b[0m\n\u001b[0m",
      "\u001b[0;32m~/Documents/hate-speech-classifier/classifier/evaluation.py\u001b[0m in \u001b[0;36mplotROCCurve\u001b[0;34m(model, train, validation, y_train, y_val, title)\u001b[0m\n\u001b[1;32m     43\u001b[0m     \u001b[0maxis3\u001b[0m\u001b[0;34m.\u001b[0m\u001b[0mlines\u001b[0m\u001b[0;34m[\u001b[0m\u001b[0;36m2\u001b[0m\u001b[0;34m]\u001b[0m\u001b[0;34m.\u001b[0m\u001b[0mset_color\u001b[0m\u001b[0;34m(\u001b[0m\u001b[0;34m\"black\"\u001b[0m\u001b[0;34m)\u001b[0m\u001b[0;34m\u001b[0m\u001b[0;34m\u001b[0m\u001b[0m\n\u001b[1;32m     44\u001b[0m \u001b[0;34m\u001b[0m\u001b[0m\n\u001b[0;32m---> 45\u001b[0;31m     \u001b[0mplt\u001b[0m\u001b[0;34m.\u001b[0m\u001b[0mtitle\u001b[0m\u001b[0;34m(\u001b[0m\u001b[0mstr\u001b[0m\u001b[0;34m(\u001b[0m\u001b[0mtitle\u001b[0m\u001b[0;34m)\u001b[0m\u001b[0;34m,\u001b[0m \u001b[0;34m' ROC Curve'\u001b[0m\u001b[0;34m)\u001b[0m\u001b[0;34m\u001b[0m\u001b[0;34m\u001b[0m\u001b[0m\n\u001b[0m\u001b[1;32m     46\u001b[0m     \u001b[0mplt\u001b[0m\u001b[0;34m.\u001b[0m\u001b[0mxlabel\u001b[0m\u001b[0;34m(\u001b[0m\u001b[0;34m'FPR'\u001b[0m\u001b[0;34m)\u001b[0m\u001b[0;34m\u001b[0m\u001b[0;34m\u001b[0m\u001b[0m\n\u001b[1;32m     47\u001b[0m     \u001b[0mplt\u001b[0m\u001b[0;34m.\u001b[0m\u001b[0mylabel\u001b[0m\u001b[0;34m(\u001b[0m\u001b[0;34m'TPR'\u001b[0m\u001b[0;34m)\u001b[0m\u001b[0;34m\u001b[0m\u001b[0;34m\u001b[0m\u001b[0m\n",
      "\u001b[0;32m~/Library/Python/3.7/lib/python/site-packages/matplotlib/pyplot.py\u001b[0m in \u001b[0;36mtitle\u001b[0;34m(label, fontdict, loc, pad, y, **kwargs)\u001b[0m\n\u001b[1;32m   3107\u001b[0m \u001b[0;32mdef\u001b[0m \u001b[0mtitle\u001b[0m\u001b[0;34m(\u001b[0m\u001b[0mlabel\u001b[0m\u001b[0;34m,\u001b[0m \u001b[0mfontdict\u001b[0m\u001b[0;34m=\u001b[0m\u001b[0;32mNone\u001b[0m\u001b[0;34m,\u001b[0m \u001b[0mloc\u001b[0m\u001b[0;34m=\u001b[0m\u001b[0;32mNone\u001b[0m\u001b[0;34m,\u001b[0m \u001b[0mpad\u001b[0m\u001b[0;34m=\u001b[0m\u001b[0;32mNone\u001b[0m\u001b[0;34m,\u001b[0m \u001b[0;34m*\u001b[0m\u001b[0;34m,\u001b[0m \u001b[0my\u001b[0m\u001b[0;34m=\u001b[0m\u001b[0;32mNone\u001b[0m\u001b[0;34m,\u001b[0m \u001b[0;34m**\u001b[0m\u001b[0mkwargs\u001b[0m\u001b[0;34m)\u001b[0m\u001b[0;34m:\u001b[0m\u001b[0;34m\u001b[0m\u001b[0;34m\u001b[0m\u001b[0m\n\u001b[1;32m   3108\u001b[0m     return gca().set_title(\n\u001b[0;32m-> 3109\u001b[0;31m         label, fontdict=fontdict, loc=loc, pad=pad, y=y, **kwargs)\n\u001b[0m\u001b[1;32m   3110\u001b[0m \u001b[0;34m\u001b[0m\u001b[0m\n\u001b[1;32m   3111\u001b[0m \u001b[0;34m\u001b[0m\u001b[0m\n",
      "\u001b[0;32m~/Library/Python/3.7/lib/python/site-packages/matplotlib/axes/_axes.py\u001b[0m in \u001b[0;36mset_title\u001b[0;34m(self, label, fontdict, loc, pad, y, **kwargs)\u001b[0m\n\u001b[1;32m    190\u001b[0m         \u001b[0mtitle\u001b[0m\u001b[0;34m.\u001b[0m\u001b[0mupdate\u001b[0m\u001b[0;34m(\u001b[0m\u001b[0mdefault\u001b[0m\u001b[0;34m)\u001b[0m\u001b[0;34m\u001b[0m\u001b[0;34m\u001b[0m\u001b[0m\n\u001b[1;32m    191\u001b[0m         \u001b[0;32mif\u001b[0m \u001b[0mfontdict\u001b[0m \u001b[0;32mis\u001b[0m \u001b[0;32mnot\u001b[0m \u001b[0;32mNone\u001b[0m\u001b[0;34m:\u001b[0m\u001b[0;34m\u001b[0m\u001b[0;34m\u001b[0m\u001b[0m\n\u001b[0;32m--> 192\u001b[0;31m             \u001b[0mtitle\u001b[0m\u001b[0;34m.\u001b[0m\u001b[0mupdate\u001b[0m\u001b[0;34m(\u001b[0m\u001b[0mfontdict\u001b[0m\u001b[0;34m)\u001b[0m\u001b[0;34m\u001b[0m\u001b[0;34m\u001b[0m\u001b[0m\n\u001b[0m\u001b[1;32m    193\u001b[0m         \u001b[0mtitle\u001b[0m\u001b[0;34m.\u001b[0m\u001b[0mupdate\u001b[0m\u001b[0;34m(\u001b[0m\u001b[0mkwargs\u001b[0m\u001b[0;34m)\u001b[0m\u001b[0;34m\u001b[0m\u001b[0;34m\u001b[0m\u001b[0m\n\u001b[1;32m    194\u001b[0m         \u001b[0;32mreturn\u001b[0m \u001b[0mtitle\u001b[0m\u001b[0;34m\u001b[0m\u001b[0;34m\u001b[0m\u001b[0m\n",
      "\u001b[0;32m~/Library/Python/3.7/lib/python/site-packages/matplotlib/text.py\u001b[0m in \u001b[0;36mupdate\u001b[0;34m(self, kwargs)\u001b[0m\n\u001b[1;32m    170\u001b[0m         \u001b[0msentinel\u001b[0m \u001b[0;34m=\u001b[0m \u001b[0mobject\u001b[0m\u001b[0;34m(\u001b[0m\u001b[0;34m)\u001b[0m  \u001b[0;31m# bbox can be None, so use another sentinel.\u001b[0m\u001b[0;34m\u001b[0m\u001b[0;34m\u001b[0m\u001b[0m\n\u001b[1;32m    171\u001b[0m         \u001b[0;31m# Update fontproperties first, as it has lowest priority.\u001b[0m\u001b[0;34m\u001b[0m\u001b[0;34m\u001b[0m\u001b[0;34m\u001b[0m\u001b[0m\n\u001b[0;32m--> 172\u001b[0;31m         \u001b[0mfontproperties\u001b[0m \u001b[0;34m=\u001b[0m \u001b[0mkwargs\u001b[0m\u001b[0;34m.\u001b[0m\u001b[0mpop\u001b[0m\u001b[0;34m(\u001b[0m\u001b[0;34m\"fontproperties\"\u001b[0m\u001b[0;34m,\u001b[0m \u001b[0msentinel\u001b[0m\u001b[0;34m)\u001b[0m\u001b[0;34m\u001b[0m\u001b[0;34m\u001b[0m\u001b[0m\n\u001b[0m\u001b[1;32m    173\u001b[0m         \u001b[0;32mif\u001b[0m \u001b[0mfontproperties\u001b[0m \u001b[0;32mis\u001b[0m \u001b[0;32mnot\u001b[0m \u001b[0msentinel\u001b[0m\u001b[0;34m:\u001b[0m\u001b[0;34m\u001b[0m\u001b[0;34m\u001b[0m\u001b[0m\n\u001b[1;32m    174\u001b[0m             \u001b[0mself\u001b[0m\u001b[0;34m.\u001b[0m\u001b[0mset_fontproperties\u001b[0m\u001b[0;34m(\u001b[0m\u001b[0mfontproperties\u001b[0m\u001b[0;34m)\u001b[0m\u001b[0;34m\u001b[0m\u001b[0;34m\u001b[0m\u001b[0m\n",
      "\u001b[0;31mAttributeError\u001b[0m: 'str' object has no attribute 'pop'"
     ]
    },
    {
     "data": {
      "image/png": "[encoded data removed]",
      "text/plain": [
       "<Figure size 864x504 with 1 Axes>"
      ]
     },
     "metadata": {},
     "output_type": "display_data"
    }
   ],
   "source": [
    "plotROCCurve(logmod, X_train, x_val, Y_train, y_val, \"Logistic\")"
   ]
  },
  {
   "cell_type": "markdown",
   "metadata": {},
   "source": [
    "# CNN for Text Analysis\n",
    "\n",
    "Neural networks analyze texts in a slightly different way with words as opposed to the sparse TF-IDF framework. Since this is a large dataset, a CNN may be able to pick up a pattern. Preprocessing with CNNs also requires it to be processed by Keras with the layer `Embedding.()` when it comes to the modeling"
   ]
  },
  {
   "cell_type": "code",
   "execution_count": 43,
   "metadata": {},
   "outputs": [
    {
     "data": {
      "text/html": [
       "<div>\n",
       "<style scoped>\n",
       "    .dataframe tbody tr th:only-of-type {\n",
       "        vertical-align: middle;\n",
       "    }\n",
       "\n",
       "    .dataframe tbody tr th {\n",
       "        vertical-align: top;\n",
       "    }\n",
       "\n",
       "    .dataframe thead th {\n",
       "        text-align: right;\n",
       "    }\n",
       "</style>\n",
       "<table border=\"1\" class=\"dataframe\">\n",
       "  <thead>\n",
       "    <tr style=\"text-align: right;\">\n",
       "      <th></th>\n",
       "      <th>tweet_low</th>\n",
       "      <th>handle_count</th>\n",
       "      <th>no_handle_no_special_no_sin_ash</th>\n",
       "      <th>tweet_length</th>\n",
       "      <th>character_count</th>\n",
       "      <th>lemmatized</th>\n",
       "      <th>lemmatized_1</th>\n",
       "      <th>lemmatized_final</th>\n",
       "      <th>tweet_without_stopwords</th>\n",
       "      <th>tweet_no_stopwords_no_short</th>\n",
       "      <th>neg_label</th>\n",
       "    </tr>\n",
       "  </thead>\n",
       "  <tbody>\n",
       "    <tr>\n",
       "      <th>0</th>\n",
       "      <td>13 days to go #gettingthere</td>\n",
       "      <td>0</td>\n",
       "      <td>days to go #gettingthere</td>\n",
       "      <td>30</td>\n",
       "      <td>21</td>\n",
       "      <td>day to go # gettingthere</td>\n",
       "      <td>day to go #gettingthere</td>\n",
       "      <td>day to go # gettingthere</td>\n",
       "      <td>day go # gettingthere</td>\n",
       "      <td>day gettingthere</td>\n",
       "      <td>0</td>\n",
       "    </tr>\n",
       "    <tr>\n",
       "      <th>1</th>\n",
       "      <td>@anggxo get off my twitter fag</td>\n",
       "      <td>1</td>\n",
       "      <td>get off my twitter fag</td>\n",
       "      <td>23</td>\n",
       "      <td>18</td>\n",
       "      <td>get off my twitter fag</td>\n",
       "      <td>get off my twitter fag</td>\n",
       "      <td>get off my twitter fag</td>\n",
       "      <td>get twitter fag</td>\n",
       "      <td>get twitter fag</td>\n",
       "      <td>1</td>\n",
       "    </tr>\n",
       "    <tr>\n",
       "      <th>2</th>\n",
       "      <td>these hoes got more bodies than a cemetery&amp;#12...</td>\n",
       "      <td>0</td>\n",
       "      <td>these hoes got more bodies than a cemetery    ...</td>\n",
       "      <td>58</td>\n",
       "      <td>35</td>\n",
       "      <td>these hoe get more body than a cemetery</td>\n",
       "      <td>these hoe get more body than a cemetery</td>\n",
       "      <td>these hoe get more body than a cemetery</td>\n",
       "      <td>hoe get body cemetery</td>\n",
       "      <td>hoe get body cemetery</td>\n",
       "      <td>1</td>\n",
       "    </tr>\n",
       "    <tr>\n",
       "      <th>3</th>\n",
       "      <td>a friend just told me she's afraid to go to dc...</td>\n",
       "      <td>1</td>\n",
       "      <td>a friend just told me she's afraid to go to dc...</td>\n",
       "      <td>124</td>\n",
       "      <td>95</td>\n",
       "      <td>a friend just tell me she 's afraid to go to d...</td>\n",
       "      <td>a friend just tell me she 's afraid to go to d...</td>\n",
       "      <td>a friend just tell me she's afraid to go to dc...</td>\n",
       "      <td>friend tell 's afraid go dc rally amp attack #...</td>\n",
       "      <td>friend tell afraid rally amp attack berniebros...</td>\n",
       "      <td>0</td>\n",
       "    </tr>\n",
       "    <tr>\n",
       "      <th>4</th>\n",
       "      <td>i've noticed a lot of #icontf16 presentations ...</td>\n",
       "      <td>1</td>\n",
       "      <td>i've noticed a lot of #icontf   presentations ...</td>\n",
       "      <td>117</td>\n",
       "      <td>95</td>\n",
       "      <td>i 've notice a lot of # icontf presentation me...</td>\n",
       "      <td>i 've notice a lot of #icontf presentation men...</td>\n",
       "      <td>i've notice a lot of # icontf presentation men...</td>\n",
       "      <td>'ve notice lot # icontf presentation mention h...</td>\n",
       "      <td>'ve notice lot icontf presentation mention hap...</td>\n",
       "      <td>0</td>\n",
       "    </tr>\n",
       "    <tr>\n",
       "      <th>5</th>\n",
       "      <td>getting   for this weekends shows! #country #m...</td>\n",
       "      <td>0</td>\n",
       "      <td>getting   for this weekends shows  #country #m...</td>\n",
       "      <td>62</td>\n",
       "      <td>52</td>\n",
       "      <td>get for this weekend show # country # music # ...</td>\n",
       "      <td>get for this weekend show #country #music #lyl...</td>\n",
       "      <td>get for this weekend show # country # music # ...</td>\n",
       "      <td>get weekend show # country # music # lylepierce</td>\n",
       "      <td>get weekend show country music lylepierce</td>\n",
       "      <td>0</td>\n",
       "    </tr>\n",
       "    <tr>\n",
       "      <th>6</th>\n",
       "      <td>@user my final legislative session day has of...</td>\n",
       "      <td>3</td>\n",
       "      <td>my final legislative session day has officia...</td>\n",
       "      <td>69</td>\n",
       "      <td>53</td>\n",
       "      <td>my final legislative session day have official...</td>\n",
       "      <td>my final legislative session day have official...</td>\n",
       "      <td>my final legislative session day have official...</td>\n",
       "      <td>final legislative session day officially begin...</td>\n",
       "      <td>final legislative session day officially begin...</td>\n",
       "      <td>0</td>\n",
       "    </tr>\n",
       "    <tr>\n",
       "      <th>7</th>\n",
       "      <td>@lucas_wright955 @michaelgt03 faggots</td>\n",
       "      <td>2</td>\n",
       "      <td>faggots</td>\n",
       "      <td>9</td>\n",
       "      <td>7</td>\n",
       "      <td>faggot</td>\n",
       "      <td>faggot</td>\n",
       "      <td>faggot</td>\n",
       "      <td>faggot</td>\n",
       "      <td>faggot</td>\n",
       "      <td>1</td>\n",
       "    </tr>\n",
       "    <tr>\n",
       "      <th>8</th>\n",
       "      <td>a #bikini kind of life ð´ summer #palmtrees ...</td>\n",
       "      <td>0</td>\n",
       "      <td>a #bikini kind of life      summer #palmtrees ...</td>\n",
       "      <td>96</td>\n",
       "      <td>72</td>\n",
       "      <td>a # bikini kind of life summer # palmtrees # b...</td>\n",
       "      <td>a #bikini kind of life summer #palmtrees #bree...</td>\n",
       "      <td>a # bikini kind of life summer # palmtrees # b...</td>\n",
       "      <td># bikini kind life summer # palmtrees # breeze...</td>\n",
       "      <td>bikini kind life summer palmtrees breeze place...</td>\n",
       "      <td>0</td>\n",
       "    </tr>\n",
       "    <tr>\n",
       "      <th>9</th>\n",
       "      <td>very sad people with very sad lives, gossiping...</td>\n",
       "      <td>0</td>\n",
       "      <td>very sad people with very sad lives  gossiping...</td>\n",
       "      <td>104</td>\n",
       "      <td>83</td>\n",
       "      <td>very sad people with very sad life gossip abou...</td>\n",
       "      <td>very sad people with very sad life gossip abou...</td>\n",
       "      <td>very sad people with very sad life gossip abou...</td>\n",
       "      <td>sad people sad life gossip people fuck # getalife</td>\n",
       "      <td>sad people sad life gossip people fuck getalife</td>\n",
       "      <td>0</td>\n",
       "    </tr>\n",
       "  </tbody>\n",
       "</table>\n",
       "</div>"
      ],
      "text/plain": [
       "                                           tweet_low  handle_count  \\\n",
       "0                     13 days to go #gettingthere                0   \n",
       "1                     @anggxo get off my twitter fag             1   \n",
       "2  these hoes got more bodies than a cemetery&#12...             0   \n",
       "3  a friend just told me she's afraid to go to dc...             1   \n",
       "4  i've noticed a lot of #icontf16 presentations ...             1   \n",
       "5  getting   for this weekends shows! #country #m...             0   \n",
       "6   @user my final legislative session day has of...             3   \n",
       "7              @lucas_wright955 @michaelgt03 faggots             2   \n",
       "8  a #bikini kind of life ð´ summer #palmtrees ...             0   \n",
       "9  very sad people with very sad lives, gossiping...             0   \n",
       "\n",
       "                     no_handle_no_special_no_sin_ash  tweet_length  \\\n",
       "0                        days to go #gettingthere               30   \n",
       "1                             get off my twitter fag            23   \n",
       "2  these hoes got more bodies than a cemetery    ...            58   \n",
       "3  a friend just told me she's afraid to go to dc...           124   \n",
       "4  i've noticed a lot of #icontf   presentations ...           117   \n",
       "5  getting   for this weekends shows  #country #m...            62   \n",
       "6    my final legislative session day has officia...            69   \n",
       "7                                            faggots             9   \n",
       "8  a #bikini kind of life      summer #palmtrees ...            96   \n",
       "9  very sad people with very sad lives  gossiping...           104   \n",
       "\n",
       "   character_count                                         lemmatized  \\\n",
       "0               21                           day to go # gettingthere   \n",
       "1               18                             get off my twitter fag   \n",
       "2               35            these hoe get more body than a cemetery   \n",
       "3               95  a friend just tell me she 's afraid to go to d...   \n",
       "4               95  i 've notice a lot of # icontf presentation me...   \n",
       "5               52  get for this weekend show # country # music # ...   \n",
       "6               53  my final legislative session day have official...   \n",
       "7                7                                             faggot   \n",
       "8               72  a # bikini kind of life summer # palmtrees # b...   \n",
       "9               83  very sad people with very sad life gossip abou...   \n",
       "\n",
       "                                        lemmatized_1  \\\n",
       "0                            day to go #gettingthere   \n",
       "1                             get off my twitter fag   \n",
       "2            these hoe get more body than a cemetery   \n",
       "3  a friend just tell me she 's afraid to go to d...   \n",
       "4  i 've notice a lot of #icontf presentation men...   \n",
       "5  get for this weekend show #country #music #lyl...   \n",
       "6  my final legislative session day have official...   \n",
       "7                                             faggot   \n",
       "8  a #bikini kind of life summer #palmtrees #bree...   \n",
       "9  very sad people with very sad life gossip abou...   \n",
       "\n",
       "                                    lemmatized_final  \\\n",
       "0                           day to go # gettingthere   \n",
       "1                             get off my twitter fag   \n",
       "2            these hoe get more body than a cemetery   \n",
       "3  a friend just tell me she's afraid to go to dc...   \n",
       "4  i've notice a lot of # icontf presentation men...   \n",
       "5  get for this weekend show # country # music # ...   \n",
       "6  my final legislative session day have official...   \n",
       "7                                             faggot   \n",
       "8  a # bikini kind of life summer # palmtrees # b...   \n",
       "9  very sad people with very sad life gossip abou...   \n",
       "\n",
       "                             tweet_without_stopwords  \\\n",
       "0                              day go # gettingthere   \n",
       "1                                    get twitter fag   \n",
       "2                              hoe get body cemetery   \n",
       "3  friend tell 's afraid go dc rally amp attack #...   \n",
       "4  've notice lot # icontf presentation mention h...   \n",
       "5    get weekend show # country # music # lylepierce   \n",
       "6  final legislative session day officially begin...   \n",
       "7                                             faggot   \n",
       "8  # bikini kind life summer # palmtrees # breeze...   \n",
       "9  sad people sad life gossip people fuck # getalife   \n",
       "\n",
       "                         tweet_no_stopwords_no_short  neg_label  \n",
       "0                                   day gettingthere          0  \n",
       "1                                    get twitter fag          1  \n",
       "2                              hoe get body cemetery          1  \n",
       "3  friend tell afraid rally amp attack berniebros...          0  \n",
       "4  've notice lot icontf presentation mention hap...          0  \n",
       "5          get weekend show country music lylepierce          0  \n",
       "6  final legislative session day officially begin...          0  \n",
       "7                                             faggot          1  \n",
       "8  bikini kind life summer palmtrees breeze place...          0  \n",
       "9    sad people sad life gossip people fuck getalife          0  "
      ]
     },
     "execution_count": 43,
     "metadata": {},
     "output_type": "execute_result"
    }
   ],
   "source": [
    "df.head(10)"
   ]
  },
  {
   "cell_type": "code",
   "execution_count": 44,
   "metadata": {},
   "outputs": [],
   "source": [
    "X_train_, X_test_, y_train_, y_test_ = train_test_split(\n",
    "    df['tweet_no_stopwords_no_short'], df['neg_label'], test_size = 0.2, random_state = 78)"
   ]
  },
  {
   "cell_type": "code",
   "execution_count": 45,
   "metadata": {},
   "outputs": [],
   "source": [
    "token = Tokenizer(num_words = 5000, filters = '!\"#$%&()*+,-./:;<=>?@[\\]^_`{\"}~\\t\\n', lower = True, split = ' ', oov_token = True)\n",
    "token.fit_on_texts(X_train_)\n",
    "X_train_seq = token.texts_to_sequences(X_train_)\n",
    "X_test_seq = token.texts_to_sequences(X_test_)"
   ]
  },
  {
   "cell_type": "code",
   "execution_count": 46,
   "metadata": {},
   "outputs": [
    {
     "data": {
      "text/plain": [
       "23"
      ]
     },
     "execution_count": 46,
     "metadata": {},
     "output_type": "execute_result"
    }
   ],
   "source": [
    "maxSeqLength(X_train_seq)"
   ]
  },
  {
   "cell_type": "code",
   "execution_count": 47,
   "metadata": {},
   "outputs": [],
   "source": [
    "maxLength = 23"
   ]
  },
  {
   "cell_type": "code",
   "execution_count": 48,
   "metadata": {},
   "outputs": [
    {
     "data": {
      "text/plain": [
       "29769"
      ]
     },
     "execution_count": 48,
     "metadata": {},
     "output_type": "execute_result"
    }
   ],
   "source": [
    "# Total number of words in the corpus\n",
    "vocabularySize = len(token.word_index)\n",
    "vocabularySize"
   ]
  },
  {
   "cell_type": "code",
   "execution_count": 49,
   "metadata": {},
   "outputs": [],
   "source": [
    "numberWords = 5000"
   ]
  },
  {
   "cell_type": "code",
   "execution_count": 50,
   "metadata": {},
   "outputs": [],
   "source": [
    "X_train_seq_pad = pad_sequences(X_train_seq, maxlen=maxLength, padding='post')\n",
    "X_test_seq_pad = pad_sequences(X_test_seq, maxlen=maxLength, padding='post')"
   ]
  },
  {
   "cell_type": "code",
   "execution_count": 51,
   "metadata": {},
   "outputs": [],
   "source": [
    "X_train_emb, x_valid_emb, y_train_emb, Y_valid_emb = train_test_split(\n",
    "    X_train_seq_pad, y_train, test_size=0.2, random_state=45)"
   ]
  },
  {
   "cell_type": "code",
   "execution_count": 53,
   "metadata": {},
   "outputs": [],
   "source": [
    "batchSize = 64 \n",
    "embeddingDimensions = 200"
   ]
  },
  {
   "cell_type": "code",
   "execution_count": 58,
   "metadata": {},
   "outputs": [],
   "source": [
    "embModel2 = models.Sequential()\n",
    "embModel2.add(layers.Embedding(numberWords, embeddingDimensions, input_length = maxLength))\n",
    "embModel2.add(layers.Conv1D(50, 3, activation='relu', input_shape=(200, 1)))\n",
    "embModel2.add(layers.GlobalMaxPooling1D())\n",
    "embModel2.add(layers.Dense(1, activation='sigmoid'))\n",
    "embModel2.compile(optimizer='adam', loss='binary_crossentropy', metrics=['accuracy'])"
   ]
  },
  {
   "cell_type": "code",
   "execution_count": 59,
   "metadata": {},
   "outputs": [
    {
     "name": "stdout",
     "output_type": "stream",
     "text": [
      "Epoch 1/10\n",
      "336/336 [==============================] - 7s 21ms/step - loss: 0.6942 - accuracy: 0.5052 - val_loss: 0.6934 - val_accuracy: 0.5064\n",
      "Epoch 2/10\n",
      "336/336 [==============================] - 7s 21ms/step - loss: 0.6535 - accuracy: 0.6438 - val_loss: 0.7103 - val_accuracy: 0.4997\n",
      "Epoch 3/10\n",
      "336/336 [==============================] - 7s 21ms/step - loss: 0.5226 - accuracy: 0.7585 - val_loss: 0.8010 - val_accuracy: 0.4904\n",
      "Epoch 4/10\n",
      "336/336 [==============================] - 7s 21ms/step - loss: 0.3440 - accuracy: 0.8650 - val_loss: 0.9352 - val_accuracy: 0.4977\n",
      "Epoch 5/10\n",
      "336/336 [==============================] - 7s 20ms/step - loss: 0.2262 - accuracy: 0.9176 - val_loss: 1.0765 - val_accuracy: 0.4979\n",
      "Epoch 6/10\n",
      "336/336 [==============================] - 7s 21ms/step - loss: 0.1629 - accuracy: 0.9419 - val_loss: 1.2203 - val_accuracy: 0.5087\n",
      "Epoch 7/10\n",
      "336/336 [==============================] - 7s 21ms/step - loss: 0.1315 - accuracy: 0.9531 - val_loss: 1.3061 - val_accuracy: 0.4980\n",
      "Epoch 8/10\n",
      "336/336 [==============================] - 7s 21ms/step - loss: 0.1126 - accuracy: 0.9608 - val_loss: 1.3824 - val_accuracy: 0.4966\n",
      "Epoch 9/10\n",
      "336/336 [==============================] - 7s 20ms/step - loss: 0.1037 - accuracy: 0.9635 - val_loss: 1.4707 - val_accuracy: 0.5034\n",
      "Epoch 10/10\n",
      "336/336 [==============================] - 7s 21ms/step - loss: 0.0954 - accuracy: 0.9654 - val_loss: 1.5348 - val_accuracy: 0.4992\n"
     ]
    }
   ],
   "source": [
    "embModel2History = embModel2.fit(X_train_emb, y_train_emb, epochs = 10, batch_size = 64, validation_split = .2)"
   ]
  },
  {
   "cell_type": "code",
   "execution_count": 60,
   "metadata": {},
   "outputs": [
    {
     "name": "stdout",
     "output_type": "stream",
     "text": [
      "210/210 [==============================] - 0s 2ms/step - loss: 1.5406 - accuracy: 0.5039\n"
     ]
    },
    {
     "data": {
      "text/plain": [
       "[1.540617823600769, 0.5039440393447876]"
      ]
     },
     "execution_count": 60,
     "metadata": {},
     "output_type": "execute_result"
    }
   ],
   "source": [
    "embModel2.evaluate(x_valid_emb, Y_valid_emb)"
   ]
  },
  {
   "cell_type": "markdown",
   "metadata": {},
   "source": [
    "Validation results for the CNN are roughly 50.4% accurrate with a loss function of 1.5406%. This will need to be improved in the future."
   ]
  },
  {
   "cell_type": "markdown",
   "metadata": {},
   "source": [
    "# Naive Bayes"
   ]
  },
  {
   "cell_type": "code",
   "execution_count": 64,
   "metadata": {},
   "outputs": [],
   "source": [
    "naiveBayesClassifier = GaussianNB()\n",
    "\n",
    "# Fit model\n",
    "naiveModel = naiveBayesClassifier.fit(X_train, Y_train)"
   ]
  },
  {
   "cell_type": "code",
   "execution_count": 66,
   "metadata": {},
   "outputs": [],
   "source": [
    "naiveModelTrain = calculatePerformance(naiveModel, X_train, Y_train, 'Naive BayesTraining (TF-IDF)')"
   ]
  },
  {
   "cell_type": "code",
   "execution_count": 67,
   "metadata": {},
   "outputs": [
    {
     "data": {
      "text/html": [
       "<div>\n",
       "<style scoped>\n",
       "    .dataframe tbody tr th:only-of-type {\n",
       "        vertical-align: middle;\n",
       "    }\n",
       "\n",
       "    .dataframe tbody tr th {\n",
       "        vertical-align: top;\n",
       "    }\n",
       "\n",
       "    .dataframe thead th {\n",
       "        text-align: right;\n",
       "    }\n",
       "</style>\n",
       "<table border=\"1\" class=\"dataframe\">\n",
       "  <thead>\n",
       "    <tr style=\"text-align: right;\">\n",
       "      <th></th>\n",
       "      <th>Model</th>\n",
       "      <th>F1</th>\n",
       "      <th>Accuracy</th>\n",
       "      <th>ROC_Score</th>\n",
       "      <th>Precision</th>\n",
       "    </tr>\n",
       "  </thead>\n",
       "  <tbody>\n",
       "    <tr>\n",
       "      <th>0</th>\n",
       "      <td>Naive BayesTraining (TF-IDF)</td>\n",
       "      <td>0.925761</td>\n",
       "      <td>0.922899</td>\n",
       "      <td>0.926856</td>\n",
       "      <td>0.878366</td>\n",
       "    </tr>\n",
       "  </tbody>\n",
       "</table>\n",
       "</div>"
      ],
      "text/plain": [
       "                          Model        F1  Accuracy  ROC_Score  Precision\n",
       "0  Naive BayesTraining (TF-IDF)  0.925761  0.922899   0.926856   0.878366"
      ]
     },
     "execution_count": 67,
     "metadata": {},
     "output_type": "execute_result"
    }
   ],
   "source": [
    "naiveModelTrain"
   ]
  },
  {
   "cell_type": "code",
   "execution_count": 68,
   "metadata": {},
   "outputs": [],
   "source": [
    "naiveModelVal = calculatePerformance(naiveModel, x_val, y_val, 'Naive Bayes Validation (TF-IDF)')"
   ]
  },
  {
   "cell_type": "code",
   "execution_count": 69,
   "metadata": {},
   "outputs": [
    {
     "data": {
      "text/html": [
       "<div>\n",
       "<style scoped>\n",
       "    .dataframe tbody tr th:only-of-type {\n",
       "        vertical-align: middle;\n",
       "    }\n",
       "\n",
       "    .dataframe tbody tr th {\n",
       "        vertical-align: top;\n",
       "    }\n",
       "\n",
       "    .dataframe thead th {\n",
       "        text-align: right;\n",
       "    }\n",
       "</style>\n",
       "<table border=\"1\" class=\"dataframe\">\n",
       "  <thead>\n",
       "    <tr style=\"text-align: right;\">\n",
       "      <th></th>\n",
       "      <th>Model</th>\n",
       "      <th>F1</th>\n",
       "      <th>Accuracy</th>\n",
       "      <th>ROC_Score</th>\n",
       "      <th>Precision</th>\n",
       "    </tr>\n",
       "  </thead>\n",
       "  <tbody>\n",
       "    <tr>\n",
       "      <th>0</th>\n",
       "      <td>Naive Bayes Validation (TF-IDF)</td>\n",
       "      <td>0.881919</td>\n",
       "      <td>0.876172</td>\n",
       "      <td>0.878681</td>\n",
       "      <td>0.832753</td>\n",
       "    </tr>\n",
       "  </tbody>\n",
       "</table>\n",
       "</div>"
      ],
      "text/plain": [
       "                             Model        F1  Accuracy  ROC_Score  Precision\n",
       "0  Naive Bayes Validation (TF-IDF)  0.881919  0.876172   0.878681   0.832753"
      ]
     },
     "execution_count": 69,
     "metadata": {},
     "output_type": "execute_result"
    }
   ],
   "source": [
    "naiveModelVal"
   ]
  },
  {
   "cell_type": "code",
   "execution_count": 70,
   "metadata": {},
   "outputs": [
    {
     "ename": "AttributeError",
     "evalue": "'str' object has no attribute 'pop'",
     "output_type": "error",
     "traceback": [
      "\u001b[0;31m---------------------------------------------------------------------------\u001b[0m",
      "\u001b[0;31mAttributeError\u001b[0m                            Traceback (most recent call last)",
      "\u001b[0;32m<ipython-input-70-41b314d537da>\u001b[0m in \u001b[0;36m<module>\u001b[0;34m\u001b[0m\n\u001b[0;32m----> 1\u001b[0;31m \u001b[0mplotROCCurve\u001b[0m\u001b[0;34m(\u001b[0m\u001b[0mnaiveModel\u001b[0m\u001b[0;34m,\u001b[0m \u001b[0mX_train\u001b[0m\u001b[0;34m,\u001b[0m \u001b[0mx_val\u001b[0m\u001b[0;34m,\u001b[0m \u001b[0mY_train\u001b[0m\u001b[0;34m,\u001b[0m \u001b[0my_val\u001b[0m\u001b[0;34m,\u001b[0m \u001b[0;34m'Naive Bayes (TF-IDF)'\u001b[0m\u001b[0;34m)\u001b[0m\u001b[0;34m\u001b[0m\u001b[0;34m\u001b[0m\u001b[0m\n\u001b[0m",
      "\u001b[0;32m~/Documents/hate-speech-classifier/classifier/evaluation.py\u001b[0m in \u001b[0;36mplotROCCurve\u001b[0;34m(model, train, validation, y_train, y_val, title)\u001b[0m\n\u001b[1;32m     43\u001b[0m     \u001b[0maxis3\u001b[0m\u001b[0;34m.\u001b[0m\u001b[0mlines\u001b[0m\u001b[0;34m[\u001b[0m\u001b[0;36m2\u001b[0m\u001b[0;34m]\u001b[0m\u001b[0;34m.\u001b[0m\u001b[0mset_color\u001b[0m\u001b[0;34m(\u001b[0m\u001b[0;34m\"black\"\u001b[0m\u001b[0;34m)\u001b[0m\u001b[0;34m\u001b[0m\u001b[0;34m\u001b[0m\u001b[0m\n\u001b[1;32m     44\u001b[0m \u001b[0;34m\u001b[0m\u001b[0m\n\u001b[0;32m---> 45\u001b[0;31m     \u001b[0mplt\u001b[0m\u001b[0;34m.\u001b[0m\u001b[0mtitle\u001b[0m\u001b[0;34m(\u001b[0m\u001b[0mstr\u001b[0m\u001b[0;34m(\u001b[0m\u001b[0mtitle\u001b[0m\u001b[0;34m)\u001b[0m\u001b[0;34m,\u001b[0m \u001b[0;34m' ROC Curve'\u001b[0m\u001b[0;34m)\u001b[0m\u001b[0;34m\u001b[0m\u001b[0;34m\u001b[0m\u001b[0m\n\u001b[0m\u001b[1;32m     46\u001b[0m     \u001b[0mplt\u001b[0m\u001b[0;34m.\u001b[0m\u001b[0mxlabel\u001b[0m\u001b[0;34m(\u001b[0m\u001b[0;34m'FPR'\u001b[0m\u001b[0;34m)\u001b[0m\u001b[0;34m\u001b[0m\u001b[0;34m\u001b[0m\u001b[0m\n\u001b[1;32m     47\u001b[0m     \u001b[0mplt\u001b[0m\u001b[0;34m.\u001b[0m\u001b[0mylabel\u001b[0m\u001b[0;34m(\u001b[0m\u001b[0;34m'TPR'\u001b[0m\u001b[0;34m)\u001b[0m\u001b[0;34m\u001b[0m\u001b[0;34m\u001b[0m\u001b[0m\n",
      "\u001b[0;32m~/Library/Python/3.7/lib/python/site-packages/matplotlib/pyplot.py\u001b[0m in \u001b[0;36mtitle\u001b[0;34m(label, fontdict, loc, pad, y, **kwargs)\u001b[0m\n\u001b[1;32m   3107\u001b[0m \u001b[0;32mdef\u001b[0m \u001b[0mtitle\u001b[0m\u001b[0;34m(\u001b[0m\u001b[0mlabel\u001b[0m\u001b[0;34m,\u001b[0m \u001b[0mfontdict\u001b[0m\u001b[0;34m=\u001b[0m\u001b[0;32mNone\u001b[0m\u001b[0;34m,\u001b[0m \u001b[0mloc\u001b[0m\u001b[0;34m=\u001b[0m\u001b[0;32mNone\u001b[0m\u001b[0;34m,\u001b[0m \u001b[0mpad\u001b[0m\u001b[0;34m=\u001b[0m\u001b[0;32mNone\u001b[0m\u001b[0;34m,\u001b[0m \u001b[0;34m*\u001b[0m\u001b[0;34m,\u001b[0m \u001b[0my\u001b[0m\u001b[0;34m=\u001b[0m\u001b[0;32mNone\u001b[0m\u001b[0;34m,\u001b[0m \u001b[0;34m**\u001b[0m\u001b[0mkwargs\u001b[0m\u001b[0;34m)\u001b[0m\u001b[0;34m:\u001b[0m\u001b[0;34m\u001b[0m\u001b[0;34m\u001b[0m\u001b[0m\n\u001b[1;32m   3108\u001b[0m     return gca().set_title(\n\u001b[0;32m-> 3109\u001b[0;31m         label, fontdict=fontdict, loc=loc, pad=pad, y=y, **kwargs)\n\u001b[0m\u001b[1;32m   3110\u001b[0m \u001b[0;34m\u001b[0m\u001b[0m\n\u001b[1;32m   3111\u001b[0m \u001b[0;34m\u001b[0m\u001b[0m\n",
      "\u001b[0;32m~/Library/Python/3.7/lib/python/site-packages/matplotlib/axes/_axes.py\u001b[0m in \u001b[0;36mset_title\u001b[0;34m(self, label, fontdict, loc, pad, y, **kwargs)\u001b[0m\n\u001b[1;32m    190\u001b[0m         \u001b[0mtitle\u001b[0m\u001b[0;34m.\u001b[0m\u001b[0mupdate\u001b[0m\u001b[0;34m(\u001b[0m\u001b[0mdefault\u001b[0m\u001b[0;34m)\u001b[0m\u001b[0;34m\u001b[0m\u001b[0;34m\u001b[0m\u001b[0m\n\u001b[1;32m    191\u001b[0m         \u001b[0;32mif\u001b[0m \u001b[0mfontdict\u001b[0m \u001b[0;32mis\u001b[0m \u001b[0;32mnot\u001b[0m \u001b[0;32mNone\u001b[0m\u001b[0;34m:\u001b[0m\u001b[0;34m\u001b[0m\u001b[0;34m\u001b[0m\u001b[0m\n\u001b[0;32m--> 192\u001b[0;31m             \u001b[0mtitle\u001b[0m\u001b[0;34m.\u001b[0m\u001b[0mupdate\u001b[0m\u001b[0;34m(\u001b[0m\u001b[0mfontdict\u001b[0m\u001b[0;34m)\u001b[0m\u001b[0;34m\u001b[0m\u001b[0;34m\u001b[0m\u001b[0m\n\u001b[0m\u001b[1;32m    193\u001b[0m         \u001b[0mtitle\u001b[0m\u001b[0;34m.\u001b[0m\u001b[0mupdate\u001b[0m\u001b[0;34m(\u001b[0m\u001b[0mkwargs\u001b[0m\u001b[0;34m)\u001b[0m\u001b[0;34m\u001b[0m\u001b[0;34m\u001b[0m\u001b[0m\n\u001b[1;32m    194\u001b[0m         \u001b[0;32mreturn\u001b[0m \u001b[0mtitle\u001b[0m\u001b[0;34m\u001b[0m\u001b[0;34m\u001b[0m\u001b[0m\n",
      "\u001b[0;32m~/Library/Python/3.7/lib/python/site-packages/matplotlib/text.py\u001b[0m in \u001b[0;36mupdate\u001b[0;34m(self, kwargs)\u001b[0m\n\u001b[1;32m    170\u001b[0m         \u001b[0msentinel\u001b[0m \u001b[0;34m=\u001b[0m \u001b[0mobject\u001b[0m\u001b[0;34m(\u001b[0m\u001b[0;34m)\u001b[0m  \u001b[0;31m# bbox can be None, so use another sentinel.\u001b[0m\u001b[0;34m\u001b[0m\u001b[0;34m\u001b[0m\u001b[0m\n\u001b[1;32m    171\u001b[0m         \u001b[0;31m# Update fontproperties first, as it has lowest priority.\u001b[0m\u001b[0;34m\u001b[0m\u001b[0;34m\u001b[0m\u001b[0;34m\u001b[0m\u001b[0m\n\u001b[0;32m--> 172\u001b[0;31m         \u001b[0mfontproperties\u001b[0m \u001b[0;34m=\u001b[0m \u001b[0mkwargs\u001b[0m\u001b[0;34m.\u001b[0m\u001b[0mpop\u001b[0m\u001b[0;34m(\u001b[0m\u001b[0;34m\"fontproperties\"\u001b[0m\u001b[0;34m,\u001b[0m \u001b[0msentinel\u001b[0m\u001b[0;34m)\u001b[0m\u001b[0;34m\u001b[0m\u001b[0;34m\u001b[0m\u001b[0m\n\u001b[0m\u001b[1;32m    173\u001b[0m         \u001b[0;32mif\u001b[0m \u001b[0mfontproperties\u001b[0m \u001b[0;32mis\u001b[0m \u001b[0;32mnot\u001b[0m \u001b[0msentinel\u001b[0m\u001b[0;34m:\u001b[0m\u001b[0;34m\u001b[0m\u001b[0;34m\u001b[0m\u001b[0m\n\u001b[1;32m    174\u001b[0m             \u001b[0mself\u001b[0m\u001b[0;34m.\u001b[0m\u001b[0mset_fontproperties\u001b[0m\u001b[0;34m(\u001b[0m\u001b[0mfontproperties\u001b[0m\u001b[0;34m)\u001b[0m\u001b[0;34m\u001b[0m\u001b[0;34m\u001b[0m\u001b[0m\n",
      "\u001b[0;31mAttributeError\u001b[0m: 'str' object has no attribute 'pop'"
     ]
    },
    {
     "data": {
      "image/png": "[encoded data removed]",
      "text/plain": [
       "<Figure size 864x504 with 1 Axes>"
      ]
     },
     "metadata": {},
     "output_type": "display_data"
    }
   ],
   "source": [
    "plotROCCurve(naiveModel, X_train, x_val, Y_train, y_val, 'Naive Bayes (TF-IDF)')"
   ]
  },
  {
   "cell_type": "markdown",
   "metadata": {},
   "source": [
    "# Decision Tree"
   ]
  },
  {
   "cell_type": "code",
   "execution_count": 71,
   "metadata": {},
   "outputs": [],
   "source": [
    "DecisionTree = DecisionTreeClassifier(max_depth=3, min_samples_leaf=10, random_state=86)\n",
    "# Fit decision tree\n",
    "treeModel = DecisionTree.fit(X_train, Y_train)"
   ]
  },
  {
   "cell_type": "code",
   "execution_count": 72,
   "metadata": {},
   "outputs": [
    {
     "data": {
      "text/html": [
       "<div>\n",
       "<style scoped>\n",
       "    .dataframe tbody tr th:only-of-type {\n",
       "        vertical-align: middle;\n",
       "    }\n",
       "\n",
       "    .dataframe tbody tr th {\n",
       "        vertical-align: top;\n",
       "    }\n",
       "\n",
       "    .dataframe thead th {\n",
       "        text-align: right;\n",
       "    }\n",
       "</style>\n",
       "<table border=\"1\" class=\"dataframe\">\n",
       "  <thead>\n",
       "    <tr style=\"text-align: right;\">\n",
       "      <th></th>\n",
       "      <th>Model</th>\n",
       "      <th>F1</th>\n",
       "      <th>Accuracy</th>\n",
       "      <th>ROC_Score</th>\n",
       "      <th>Precision</th>\n",
       "    </tr>\n",
       "  </thead>\n",
       "  <tbody>\n",
       "    <tr>\n",
       "      <th>0</th>\n",
       "      <td>Decision Tree Training</td>\n",
       "      <td>0.879331</td>\n",
       "      <td>0.893726</td>\n",
       "      <td>0.892354</td>\n",
       "      <td>0.994267</td>\n",
       "    </tr>\n",
       "  </tbody>\n",
       "</table>\n",
       "</div>"
      ],
      "text/plain": [
       "                    Model        F1  Accuracy  ROC_Score  Precision\n",
       "0  Decision Tree Training  0.879331  0.893726   0.892354   0.994267"
      ]
     },
     "execution_count": 72,
     "metadata": {},
     "output_type": "execute_result"
    }
   ],
   "source": [
    "treeModelTrain = calculatePerformance(treeModel, X_train, Y_train, 'Decision Tree Training')\n",
    "treeModelTrain"
   ]
  },
  {
   "cell_type": "code",
   "execution_count": 73,
   "metadata": {},
   "outputs": [
    {
     "data": {
      "text/html": [
       "<div>\n",
       "<style scoped>\n",
       "    .dataframe tbody tr th:only-of-type {\n",
       "        vertical-align: middle;\n",
       "    }\n",
       "\n",
       "    .dataframe tbody tr th {\n",
       "        vertical-align: top;\n",
       "    }\n",
       "\n",
       "    .dataframe thead th {\n",
       "        text-align: right;\n",
       "    }\n",
       "</style>\n",
       "<table border=\"1\" class=\"dataframe\">\n",
       "  <thead>\n",
       "    <tr style=\"text-align: right;\">\n",
       "      <th></th>\n",
       "      <th>Model</th>\n",
       "      <th>F1</th>\n",
       "      <th>Accuracy</th>\n",
       "      <th>ROC_Score</th>\n",
       "      <th>Precision</th>\n",
       "    </tr>\n",
       "  </thead>\n",
       "  <tbody>\n",
       "    <tr>\n",
       "      <th>0</th>\n",
       "      <td>Decision Tree Validation</td>\n",
       "      <td>0.879331</td>\n",
       "      <td>0.893726</td>\n",
       "      <td>0.892354</td>\n",
       "      <td>0.994267</td>\n",
       "    </tr>\n",
       "  </tbody>\n",
       "</table>\n",
       "</div>"
      ],
      "text/plain": [
       "                      Model        F1  Accuracy  ROC_Score  Precision\n",
       "0  Decision Tree Validation  0.879331  0.893726   0.892354   0.994267"
      ]
     },
     "execution_count": 73,
     "metadata": {},
     "output_type": "execute_result"
    }
   ],
   "source": [
    "treeModelVal = calculatePerformance(treeModel, X_train, Y_train, 'Decision Tree Validation')\n",
    "treeModelVal"
   ]
  },
  {
   "cell_type": "markdown",
   "metadata": {},
   "source": [
    "# Evaluating all models"
   ]
  },
  {
   "cell_type": "code",
   "execution_count": 74,
   "metadata": {},
   "outputs": [],
   "source": [
    "# Concate all results into a larger dataframe\n",
    "evaluationDf = pd.concat([treeModelVal,\n",
    "                         treeModelTrain,\n",
    "                         naiveModelVal,\n",
    "                         naiveModelTrain,\n",
    "                         Logistic_Regression_Validation,\n",
    "                         Logistic_Regression_Training])"
   ]
  },
  {
   "cell_type": "code",
   "execution_count": 75,
   "metadata": {},
   "outputs": [
    {
     "data": {
      "text/html": [
       "<div>\n",
       "<style scoped>\n",
       "    .dataframe tbody tr th:only-of-type {\n",
       "        vertical-align: middle;\n",
       "    }\n",
       "\n",
       "    .dataframe tbody tr th {\n",
       "        vertical-align: top;\n",
       "    }\n",
       "\n",
       "    .dataframe thead th {\n",
       "        text-align: right;\n",
       "    }\n",
       "</style>\n",
       "<table border=\"1\" class=\"dataframe\">\n",
       "  <thead>\n",
       "    <tr style=\"text-align: right;\">\n",
       "      <th></th>\n",
       "      <th>Model</th>\n",
       "      <th>F1</th>\n",
       "      <th>Accuracy</th>\n",
       "      <th>ROC_Score</th>\n",
       "      <th>Precision</th>\n",
       "    </tr>\n",
       "  </thead>\n",
       "  <tbody>\n",
       "    <tr>\n",
       "      <th>0</th>\n",
       "      <td>Decision Tree Validation</td>\n",
       "      <td>0.879331</td>\n",
       "      <td>0.893726</td>\n",
       "      <td>0.892354</td>\n",
       "      <td>0.994267</td>\n",
       "    </tr>\n",
       "    <tr>\n",
       "      <th>0</th>\n",
       "      <td>Decision Tree Training</td>\n",
       "      <td>0.879331</td>\n",
       "      <td>0.893726</td>\n",
       "      <td>0.892354</td>\n",
       "      <td>0.994267</td>\n",
       "    </tr>\n",
       "    <tr>\n",
       "      <th>0</th>\n",
       "      <td>Naive Bayes Validation (TF-IDF)</td>\n",
       "      <td>0.881919</td>\n",
       "      <td>0.876172</td>\n",
       "      <td>0.878681</td>\n",
       "      <td>0.832753</td>\n",
       "    </tr>\n",
       "    <tr>\n",
       "      <th>0</th>\n",
       "      <td>Naive BayesTraining (TF-IDF)</td>\n",
       "      <td>0.925761</td>\n",
       "      <td>0.922899</td>\n",
       "      <td>0.926856</td>\n",
       "      <td>0.878366</td>\n",
       "    </tr>\n",
       "    <tr>\n",
       "      <th>0</th>\n",
       "      <td>Logistic Regression Validation</td>\n",
       "      <td>0.973551</td>\n",
       "      <td>0.974252</td>\n",
       "      <td>0.995978</td>\n",
       "      <td>0.986981</td>\n",
       "    </tr>\n",
       "    <tr>\n",
       "      <th>0</th>\n",
       "      <td>Logistic Regression Model</td>\n",
       "      <td>0.983070</td>\n",
       "      <td>0.983516</td>\n",
       "      <td>0.997736</td>\n",
       "      <td>0.992056</td>\n",
       "    </tr>\n",
       "  </tbody>\n",
       "</table>\n",
       "</div>"
      ],
      "text/plain": [
       "                             Model        F1  Accuracy  ROC_Score  Precision\n",
       "0         Decision Tree Validation  0.879331  0.893726   0.892354   0.994267\n",
       "0           Decision Tree Training  0.879331  0.893726   0.892354   0.994267\n",
       "0  Naive Bayes Validation (TF-IDF)  0.881919  0.876172   0.878681   0.832753\n",
       "0     Naive BayesTraining (TF-IDF)  0.925761  0.922899   0.926856   0.878366\n",
       "0   Logistic Regression Validation  0.973551  0.974252   0.995978   0.986981\n",
       "0        Logistic Regression Model  0.983070  0.983516   0.997736   0.992056"
      ]
     },
     "execution_count": 75,
     "metadata": {},
     "output_type": "execute_result"
    }
   ],
   "source": [
    "evaluationDf"
   ]
  },
  {
   "cell_type": "markdown",
   "metadata": {},
   "source": [
    "By observing the results, we see that the Logistic Regression Model has performed the best on the data."
   ]
  },
  {
   "cell_type": "code",
   "execution_count": 23,
   "metadata": {},
   "outputs": [],
   "source": [
    "# Using best parameters with logistic regression\n",
    "bestLogModel = LogisticRegression(C = 10, random_state = 1006)"
   ]
  },
  {
   "cell_type": "code",
   "execution_count": 24,
   "metadata": {},
   "outputs": [
    {
     "data": {
      "text/plain": [
       "LogisticRegression(C=10, random_state=1006)"
      ]
     },
     "execution_count": 24,
     "metadata": {},
     "output_type": "execute_result"
    }
   ],
   "source": [
    "bestLogModel.fit(X_train, Y_train)"
   ]
  },
  {
   "cell_type": "code",
   "execution_count": 25,
   "metadata": {},
   "outputs": [],
   "source": [
    "coefficients = pd.concat([pd.DataFrame(X_train.columns), pd.DataFrame(np.transpose(bestLogModel.coef_))], axis = 1)"
   ]
  },
  {
   "cell_type": "code",
   "execution_count": 26,
   "metadata": {},
   "outputs": [],
   "source": [
    "coefficients.columns=['word', 'coefficient']"
   ]
  },
  {
   "cell_type": "code",
   "execution_count": 27,
   "metadata": {},
   "outputs": [],
   "source": [
    "coefficients.sort_values(by = 'coefficient', ascending = False, inplace = True)\n",
    "coefficients = coefficients[:25]"
   ]
  },
  {
   "cell_type": "code",
   "execution_count": 28,
   "metadata": {},
   "outputs": [
    {
     "data": {
      "text/html": [
       "<div>\n",
       "<style scoped>\n",
       "    .dataframe tbody tr th:only-of-type {\n",
       "        vertical-align: middle;\n",
       "    }\n",
       "\n",
       "    .dataframe tbody tr th {\n",
       "        vertical-align: top;\n",
       "    }\n",
       "\n",
       "    .dataframe thead th {\n",
       "        text-align: right;\n",
       "    }\n",
       "</style>\n",
       "<table border=\"1\" class=\"dataframe\">\n",
       "  <thead>\n",
       "    <tr style=\"text-align: right;\">\n",
       "      <th></th>\n",
       "      <th>index</th>\n",
       "      <th>word</th>\n",
       "      <th>coefficient</th>\n",
       "    </tr>\n",
       "  </thead>\n",
       "  <tbody>\n",
       "    <tr>\n",
       "      <th>0</th>\n",
       "      <td>717</td>\n",
       "      <td>bitch</td>\n",
       "      <td>45.098956</td>\n",
       "    </tr>\n",
       "    <tr>\n",
       "      <th>1</th>\n",
       "      <td>3768</td>\n",
       "      <td>hoe</td>\n",
       "      <td>31.692547</td>\n",
       "    </tr>\n",
       "    <tr>\n",
       "      <th>2</th>\n",
       "      <td>6412</td>\n",
       "      <td>pussy</td>\n",
       "      <td>26.061497</td>\n",
       "    </tr>\n",
       "    <tr>\n",
       "      <th>3</th>\n",
       "      <td>2661</td>\n",
       "      <td>faggot</td>\n",
       "      <td>18.326497</td>\n",
       "    </tr>\n",
       "    <tr>\n",
       "      <th>4</th>\n",
       "      <td>6713</td>\n",
       "      <td>retard</td>\n",
       "      <td>16.368213</td>\n",
       "    </tr>\n",
       "    <tr>\n",
       "      <th>5</th>\n",
       "      <td>5683</td>\n",
       "      <td>nigger</td>\n",
       "      <td>16.297209</td>\n",
       "    </tr>\n",
       "    <tr>\n",
       "      <th>6</th>\n",
       "      <td>8170</td>\n",
       "      <td>trash</td>\n",
       "      <td>16.048739</td>\n",
       "    </tr>\n",
       "    <tr>\n",
       "      <th>7</th>\n",
       "      <td>1859</td>\n",
       "      <td>cunt</td>\n",
       "      <td>14.665445</td>\n",
       "    </tr>\n",
       "    <tr>\n",
       "      <th>8</th>\n",
       "      <td>2658</td>\n",
       "      <td>fag</td>\n",
       "      <td>14.562258</td>\n",
       "    </tr>\n",
       "    <tr>\n",
       "      <th>9</th>\n",
       "      <td>5664</td>\n",
       "      <td>niggah</td>\n",
       "      <td>14.168948</td>\n",
       "    </tr>\n",
       "    <tr>\n",
       "      <th>10</th>\n",
       "      <td>3210</td>\n",
       "      <td>ghetto</td>\n",
       "      <td>12.341990</td>\n",
       "    </tr>\n",
       "    <tr>\n",
       "      <th>11</th>\n",
       "      <td>6475</td>\n",
       "      <td>queer</td>\n",
       "      <td>11.697253</td>\n",
       "    </tr>\n",
       "    <tr>\n",
       "      <th>12</th>\n",
       "      <td>5615</td>\n",
       "      <td>nig</td>\n",
       "      <td>11.697021</td>\n",
       "    </tr>\n",
       "    <tr>\n",
       "      <th>13</th>\n",
       "      <td>5601</td>\n",
       "      <td>nicca</td>\n",
       "      <td>11.354366</td>\n",
       "    </tr>\n",
       "    <tr>\n",
       "      <th>14</th>\n",
       "      <td>6622</td>\n",
       "      <td>redneck</td>\n",
       "      <td>11.247986</td>\n",
       "    </tr>\n",
       "    <tr>\n",
       "      <th>15</th>\n",
       "      <td>5604</td>\n",
       "      <td>niccas</td>\n",
       "      <td>10.914860</td>\n",
       "    </tr>\n",
       "    <tr>\n",
       "      <th>16</th>\n",
       "      <td>6715</td>\n",
       "      <td>retarded</td>\n",
       "      <td>10.724974</td>\n",
       "    </tr>\n",
       "    <tr>\n",
       "      <th>17</th>\n",
       "      <td>2420</td>\n",
       "      <td>dyke</td>\n",
       "      <td>9.954727</td>\n",
       "    </tr>\n",
       "    <tr>\n",
       "      <th>18</th>\n",
       "      <td>5687</td>\n",
       "      <td>nigguh</td>\n",
       "      <td>9.936680</td>\n",
       "    </tr>\n",
       "    <tr>\n",
       "      <th>19</th>\n",
       "      <td>1747</td>\n",
       "      <td>coon</td>\n",
       "      <td>8.994734</td>\n",
       "    </tr>\n",
       "    <tr>\n",
       "      <th>20</th>\n",
       "      <td>8749</td>\n",
       "      <td>whitey</td>\n",
       "      <td>8.775372</td>\n",
       "    </tr>\n",
       "    <tr>\n",
       "      <th>21</th>\n",
       "      <td>1795</td>\n",
       "      <td>cracker</td>\n",
       "      <td>8.404344</td>\n",
       "    </tr>\n",
       "    <tr>\n",
       "      <th>22</th>\n",
       "      <td>5529</td>\n",
       "      <td>negro</td>\n",
       "      <td>8.332252</td>\n",
       "    </tr>\n",
       "    <tr>\n",
       "      <th>23</th>\n",
       "      <td>8258</td>\n",
       "      <td>twat</td>\n",
       "      <td>8.079871</td>\n",
       "    </tr>\n",
       "    <tr>\n",
       "      <th>24</th>\n",
       "      <td>5698</td>\n",
       "      <td>nigs</td>\n",
       "      <td>8.009655</td>\n",
       "    </tr>\n",
       "  </tbody>\n",
       "</table>\n",
       "</div>"
      ],
      "text/plain": [
       "    index      word  coefficient\n",
       "0     717     bitch    45.098956\n",
       "1    3768       hoe    31.692547\n",
       "2    6412     pussy    26.061497\n",
       "3    2661    faggot    18.326497\n",
       "4    6713    retard    16.368213\n",
       "5    5683    nigger    16.297209\n",
       "6    8170     trash    16.048739\n",
       "7    1859      cunt    14.665445\n",
       "8    2658       fag    14.562258\n",
       "9    5664    niggah    14.168948\n",
       "10   3210    ghetto    12.341990\n",
       "11   6475     queer    11.697253\n",
       "12   5615       nig    11.697021\n",
       "13   5601     nicca    11.354366\n",
       "14   6622   redneck    11.247986\n",
       "15   5604    niccas    10.914860\n",
       "16   6715  retarded    10.724974\n",
       "17   2420      dyke     9.954727\n",
       "18   5687    nigguh     9.936680\n",
       "19   1747      coon     8.994734\n",
       "20   8749    whitey     8.775372\n",
       "21   1795   cracker     8.404344\n",
       "22   5529     negro     8.332252\n",
       "23   8258      twat     8.079871\n",
       "24   5698      nigs     8.009655"
      ]
     },
     "execution_count": 28,
     "metadata": {},
     "output_type": "execute_result"
    }
   ],
   "source": [
    "coefficients.reset_index()"
   ]
  },
  {
   "cell_type": "code",
   "execution_count": 34,
   "metadata": {},
   "outputs": [
    {
     "data": {
      "image/png": "[encoded data removed]",
      "text/plain": [
       "<Figure size 1152x864 with 1 Axes>"
      ]
     },
     "metadata": {},
     "output_type": "display_data"
    }
   ],
   "source": [
    "plt.figure(figsize=(16,12))\n",
    "sns.barplot(coefficients['coefficient'],\n",
    "           coefficients['word'],\n",
    "           orient ='h',\n",
    "           palette=\"icefire\")\n",
    "\n",
    "plt.xlabel('Logistic Regression Coefficient', fontsize=24)\n",
    "plt.ylabel('Words', fontsize=24)\n",
    "plt.title('Top 20 Words Logistic Regression Coefficients', fontsize=30)\n",
    "plt.show()"
   ]
  },
  {
   "cell_type": "markdown",
   "metadata": {},
   "source": [
    "# Test Logistic Regression on Test Data"
   ]
  },
  {
   "cell_type": "code",
   "execution_count": 30,
   "metadata": {},
   "outputs": [],
   "source": [
    "yHatLog = bestLogModel.predict(x_test)"
   ]
  },
  {
   "cell_type": "code",
   "execution_count": 31,
   "metadata": {},
   "outputs": [],
   "source": [
    "confMatrix = confusion_matrix(y_test, yHatLog)"
   ]
  },
  {
   "cell_type": "code",
   "execution_count": 32,
   "metadata": {},
   "outputs": [
    {
     "data": {
      "text/html": [
       "<div>\n",
       "<style scoped>\n",
       "    .dataframe tbody tr th:only-of-type {\n",
       "        vertical-align: middle;\n",
       "    }\n",
       "\n",
       "    .dataframe tbody tr th {\n",
       "        vertical-align: top;\n",
       "    }\n",
       "\n",
       "    .dataframe thead th {\n",
       "        text-align: right;\n",
       "    }\n",
       "</style>\n",
       "<table border=\"1\" class=\"dataframe\">\n",
       "  <thead>\n",
       "    <tr style=\"text-align: right;\">\n",
       "      <th></th>\n",
       "      <th>Model</th>\n",
       "      <th>F1</th>\n",
       "      <th>Accuracy</th>\n",
       "      <th>ROC_Score</th>\n",
       "      <th>Precision</th>\n",
       "    </tr>\n",
       "  </thead>\n",
       "  <tbody>\n",
       "    <tr>\n",
       "      <th>0</th>\n",
       "      <td>Test Set Logistic Regression Results</td>\n",
       "      <td>0.987463</td>\n",
       "      <td>0.987856</td>\n",
       "      <td>0.997711</td>\n",
       "      <td>0.993323</td>\n",
       "    </tr>\n",
       "  </tbody>\n",
       "</table>\n",
       "</div>"
      ],
      "text/plain": [
       "                                  Model        F1  Accuracy  ROC_Score  \\\n",
       "0  Test Set Logistic Regression Results  0.987463  0.987856   0.997711   \n",
       "\n",
       "   Precision  \n",
       "0   0.993323  "
      ]
     },
     "execution_count": 32,
     "metadata": {},
     "output_type": "execute_result"
    }
   ],
   "source": [
    "calculatePerformance(bestLogModel, x_test, y_test, 'Test Set Logistic Regression Results')"
   ]
  },
  {
   "cell_type": "code",
   "execution_count": 33,
   "metadata": {},
   "outputs": [
    {
     "data": {
      "text/plain": [
       "LogisticRegression(C=10, random_state=1006)"
      ]
     },
     "execution_count": 33,
     "metadata": {},
     "output_type": "execute_result"
    }
   ],
   "source": [
    "bestLogModel"
   ]
  },
  {
   "cell_type": "code",
   "execution_count": 96,
   "metadata": {},
   "outputs": [],
   "source": [
    "from joblib import dump, load\n",
    "\n",
    "pickleLogModel = open('bestLogModel', 'wb')\n",
    "pickle.dump(bestLogModel, pickleLogModel)"
   ]
  },
  {
   "cell_type": "code",
   "execution_count": 97,
   "metadata": {},
   "outputs": [
    {
     "data": {
      "text/plain": [
       "['final_model']"
      ]
     },
     "execution_count": 97,
     "metadata": {},
     "output_type": "execute_result"
    }
   ],
   "source": [
    "dump(bestLogModel, 'final_model')"
   ]
  }
 ],
 "metadata": {
  "kernelspec": {
   "display_name": "Python 3",
   "language": "python",
   "name": "python3"
  },
  "language_info": {
   "codemirror_mode": {
    "name": "ipython",
    "version": 3
   },
   "file_extension": ".py",
   "mimetype": "text/x-python",
   "name": "python",
   "nbconvert_exporter": "python",
   "pygments_lexer": "ipython3",
   "version": "3.7.3"
  }
 },
 "nbformat": 4,
 "nbformat_minor": 4
}
